{
 "cells": [
  {
   "cell_type": "markdown",
   "id": "b556209d-2057-40fc-b9cc-eeb6c77fa83c",
   "metadata": {},
   "source": [
    "# bascis of python (assignment-3)"
   ]
  },
  {
   "cell_type": "markdown",
   "id": "5f47f7d2-1a68-4007-8d9e-6025852e03da",
   "metadata": {},
   "source": [
    "### Excercise-1: prime nos"
   ]
  },
  {
   "cell_type": "markdown",
   "id": "975a870d-0f66-424c-8fe1-551ee550f366",
   "metadata": {},
   "source": [
    "A prime number is a natural number greater than 1 that has no positive divisors other than 1 and itself. In simpler terms,\n",
    "\n",
    " 1  a prime number is only divisible by 1 and itself. For example, 2, 3, 5, 7, 11, and 13 are prime numbers."
   ]
  },
  {
   "cell_type": "code",
   "execution_count": 15,
   "id": "502a8956-724f-446f-9537-cbb05c859d8a",
   "metadata": {},
   "outputs": [
    {
     "name": "stdin",
     "output_type": "stream",
     "text": [
      "please enter a number:  6\n"
     ]
    },
    {
     "name": "stdout",
     "output_type": "stream",
     "text": [
      "given number is not a prime number.\n"
     ]
    }
   ],
   "source": [
    "def no_is_prime(num):\n",
    "    if num>1:\n",
    "        for number in range(2,num):\n",
    "            if num%number ==0:\n",
    "                return\"given number is not a prime number.\"\n",
    "        return\"given number is a prime number.\"\n",
    "    else:\n",
    "         print(\" provide numbers which are greater than 1.\")\n",
    "Input= int(input('please enter a number: '))\n",
    "print(no_is_prime(Input))\n",
    "    "
   ]
  },
  {
   "cell_type": "markdown",
   "id": "881491a6-4cd3-4663-b501-f241383b2e76",
   "metadata": {},
   "source": [
    "### Exercise-2: Product of Random Numbers"
   ]
  },
  {
   "cell_type": "code",
   "execution_count": 19,
   "id": "86f2525a-55b3-4ec4-9324-62784beccf9c",
   "metadata": {},
   "outputs": [
    {
     "name": "stdin",
     "output_type": "stream",
     "text": [
      "What's  the value of 7 multiplied by 2?  14\n"
     ]
    },
    {
     "name": "stdout",
     "output_type": "stream",
     "text": [
      "hurray!! ,Your answer is damm Correct!\n"
     ]
    }
   ],
   "source": [
    "import random\n",
    "\n",
    "def product_quiz():\n",
    "    # Generates a multiplication with random numbers between 1 and 10.\n",
    "    \n",
    "    factor1 = random.randint(1, 10)\n",
    "    factor2 = random.randint(1, 10)\n",
    "    \n",
    "    product = factor1 * factor2# multiplying the two random numbers\n",
    "    \n",
    "    answer = int(input(f\"What's  the value of {factor1} multiplied by {factor2}? \"))\n",
    "    \n",
    "    if answer == product:# if the inputed answer and product variable is equal then the input given is correct\n",
    "        print(\"hurray!! ,Your answer is damm Correct!\")\n",
    "    else: # if it's not equal then it's wrong\n",
    "        print(f\" sorry your answer {answer} is Incorrect. The correct answer is {product}.\")\n",
    "\n",
    "product_quiz()"
   ]
  },
  {
   "cell_type": "markdown",
   "id": "652c60c3-891e-4028-98c7-53a49b653624",
   "metadata": {},
   "source": [
    "### Exercise-3: squaring of numbers"
   ]
  },
  {
   "cell_type": "code",
   "execution_count": 24,
   "id": "6e91c600-fa81-4402-8b3c-dbd371cfae68",
   "metadata": {},
   "outputs": [
    {
     "name": "stdout",
     "output_type": "stream",
     "text": [
      "The Sqaure of the odd number 101 is 10201\n",
      "The Sqaure of the odd number 103 is 10609\n",
      "The Sqaure of the odd number 105 is 11025\n",
      "The Sqaure of the odd number 107 is 11449\n",
      "The Sqaure of the odd number 109 is 11881\n",
      "The Sqaure of the odd number 111 is 12321\n",
      "The Sqaure of the odd number 113 is 12769\n",
      "The Sqaure of the odd number 115 is 13225\n",
      "The Sqaure of the odd number 117 is 13689\n",
      "The Sqaure of the odd number 119 is 14161\n",
      "The Sqaure of the odd number 121 is 14641\n",
      "The Sqaure of the odd number 123 is 15129\n",
      "The Sqaure of the odd number 125 is 15625\n",
      "The Sqaure of the odd number 127 is 16129\n",
      "The Sqaure of the odd number 129 is 16641\n",
      "The Sqaure of the odd number 131 is 17161\n",
      "The Sqaure of the odd number 133 is 17689\n",
      "The Sqaure of the odd number 135 is 18225\n",
      "The Sqaure of the odd number 137 is 18769\n",
      "The Sqaure of the odd number 139 is 19321\n",
      "The Sqaure of the odd number 141 is 19881\n",
      "The Sqaure of the odd number 143 is 20449\n",
      "The Sqaure of the odd number 145 is 21025\n",
      "The Sqaure of the odd number 147 is 21609\n",
      "The Sqaure of the odd number 149 is 22201\n",
      "The Sqaure of the odd number 151 is 22801\n",
      "The Sqaure of the odd number 153 is 23409\n",
      "The Sqaure of the odd number 155 is 24025\n",
      "The Sqaure of the odd number 157 is 24649\n",
      "The Sqaure of the odd number 159 is 25281\n",
      "The Sqaure of the odd number 161 is 25921\n",
      "The Sqaure of the odd number 163 is 26569\n",
      "The Sqaure of the odd number 165 is 27225\n",
      "The Sqaure of the odd number 167 is 27889\n",
      "The Sqaure of the odd number 169 is 28561\n",
      "The Sqaure of the odd number 171 is 29241\n",
      "The Sqaure of the odd number 173 is 29929\n",
      "The Sqaure of the odd number 175 is 30625\n",
      "The Sqaure of the odd number 177 is 31329\n",
      "The Sqaure of the odd number 179 is 32041\n",
      "The Sqaure of the odd number 181 is 32761\n",
      "The Sqaure of the odd number 183 is 33489\n",
      "The Sqaure of the odd number 185 is 34225\n",
      "The Sqaure of the odd number 187 is 34969\n",
      "The Sqaure of the odd number 189 is 35721\n",
      "The Sqaure of the odd number 191 is 36481\n",
      "The Sqaure of the odd number 193 is 37249\n",
      "The Sqaure of the odd number 195 is 38025\n",
      "The Sqaure of the odd number 197 is 38809\n",
      "The Sqaure of the odd number 199 is 39601\n"
     ]
    }
   ],
   "source": [
    "# squaring the odd  numbers which are in the  range 100 to 200 \n",
    "for number in range(100,201):\n",
    "    if  number%2!=0:\n",
    "        print(f'The Sqaure of the odd number {number} is {number**2}')\n",
    "        "
   ]
  },
  {
   "cell_type": "markdown",
   "id": "e1fe9059-4251-4d46-9820-d701b465674e",
   "metadata": {},
   "source": [
    "### Exercise-4: word counter"
   ]
  },
  {
   "cell_type": "code",
   "execution_count": 28,
   "id": "cb3dae51-ae59-4a91-be00-f9cdfad91f12",
   "metadata": {},
   "outputs": [
    {
     "name": "stdout",
     "output_type": "stream",
     "text": [
      "'This':2\n",
      "'is':1\n",
      "'a':1\n",
      "'sample':1\n",
      "'text':2\n",
      "'will':1\n",
      "'be':1\n",
      "'used':1\n",
      "'to':1\n",
      "'demonstrate':1\n",
      "'the':1\n",
      "'word':1\n",
      "'counter':1\n"
     ]
    }
   ],
   "source": [
    "def counting_words(character):\n",
    "    for char in \".,/;!?\": # replacing the punctutation marks so that the code doesn't count them.\n",
    "        character =character.replace(char,\"\")\n",
    "    count= dict()\n",
    "    characters =character.split()# spliting the characters to sount them accordingly\n",
    "\n",
    "    for word in characters:\n",
    "        if word in count:\n",
    "            count[word]+=1\n",
    "        else:\n",
    "            count[word]=1\n",
    "    return count\n",
    "character = (\"This is a sample text. This text will be used to demonstrate the word counter\")\n",
    "counting_word= counting_words(character)\n",
    "for word,counts in counting_word.items():\n",
    "    print(f\"'{word}':{counts}\")"
   ]
  },
  {
   "cell_type": "markdown",
   "id": "366e6126-5090-4091-aaad-0d6f67d1fb9f",
   "metadata": {},
   "source": [
    "### Exercise-5 : Checking the palindrome"
   ]
  },
  {
   "cell_type": "code",
   "execution_count": 30,
   "id": "438d8625-6ca1-4257-8a8d-68bd66847b99",
   "metadata": {},
   "outputs": [
    {
     "name": "stdout",
     "output_type": "stream",
     "text": [
      "True\n"
     ]
    }
   ],
   "source": [
    "def palindrome(character):\n",
    "    length=len(character)\n",
    "    for r in range (0, length//2):\n",
    "        if(character[r]!= character[length-r-1]):\n",
    "            return False\n",
    "    return True\n",
    "character = \"racecar\"# example for the palindrome\n",
    "print(palindrome(character))"
   ]
  },
  {
   "cell_type": "code",
   "execution_count": null,
   "id": "15b8b5c5-bcfd-4e38-8651-641a9e350af9",
   "metadata": {},
   "outputs": [],
   "source": []
  }
 ],
 "metadata": {
  "kernelspec": {
   "display_name": "Python 3 (ipykernel)",
   "language": "python",
   "name": "python3"
  },
  "language_info": {
   "codemirror_mode": {
    "name": "ipython",
    "version": 3
   },
   "file_extension": ".py",
   "mimetype": "text/x-python",
   "name": "python",
   "nbconvert_exporter": "python",
   "pygments_lexer": "ipython3",
   "version": "3.12.7"
  },
  "widgets": {
   "application/vnd.jupyter.widget-state+json": {
    "state": {},
    "version_major": 2,
    "version_minor": 0
   }
  }
 },
 "nbformat": 4,
 "nbformat_minor": 5
}
