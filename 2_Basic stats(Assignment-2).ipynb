{
 "cells": [
  {
   "cell_type": "markdown",
   "id": "3e6c91b9-f400-4ab8-bc40-c502aeced358",
   "metadata": {},
   "source": [
    "# Basics statistics-2 (Assignment-2)"
   ]
  },
  {
   "cell_type": "code",
   "execution_count": 1,
   "id": "000932d1-e3e9-4158-94ab-ad94c1af28de",
   "metadata": {},
   "outputs": [],
   "source": [
    "import numpy as np\n",
    "from scipy import stats"
   ]
  },
  {
   "cell_type": "code",
   "execution_count": 3,
   "id": "384429a7-361c-4538-b43e-3c251eb9d7e4",
   "metadata": {},
   "outputs": [
    {
     "data": {
      "text/plain": [
       "[1.13,\n",
       " 1.55,\n",
       " 1.43,\n",
       " 0.92,\n",
       " 1.25,\n",
       " 1.36,\n",
       " 1.32,\n",
       " 0.85,\n",
       " 1.07,\n",
       " 1.48,\n",
       " 1.2,\n",
       " 1.33,\n",
       " 1.18,\n",
       " 1.22,\n",
       " 1.29]"
      ]
     },
     "execution_count": 3,
     "metadata": {},
     "output_type": "execute_result"
    }
   ],
   "source": [
    "print_head_data =[1.13, 1.55, 1.43, 0.92, 1.25, 1.36, 1.32, 0.85, 1.07, 1.48, 1.20, 1.33, 1.18, 1.22, 1.29]\n",
    "print_head_data"
   ]
  },
  {
   "cell_type": "markdown",
   "id": "d99a3185-dedd-4222-ae31-0c28f23c3d8b",
   "metadata": {},
   "source": [
    "### calculating mean, std deviation and std error for the print head data"
   ]
  },
  {
   "cell_type": "code",
   "execution_count": 8,
   "id": "9de110d4-83a9-4556-bceb-b06b3bcefd5f",
   "metadata": {},
   "outputs": [],
   "source": [
    "mean_data = np.mean(print_head_data)\n",
    "std_d_data = np.std(print_head_data,ddof=1)"
   ]
  },
  {
   "cell_type": "code",
   "execution_count": 7,
   "id": "da72799e-58fd-45d7-b295-4821a8454fdb",
   "metadata": {},
   "outputs": [
    {
     "data": {
      "text/plain": [
       "1.2386666666666666"
      ]
     },
     "execution_count": 7,
     "metadata": {},
     "output_type": "execute_result"
    }
   ],
   "source": [
    "mean_data"
   ]
  },
  {
   "cell_type": "code",
   "execution_count": 9,
   "id": "7b3b25c0-80d1-410d-a6d4-be63335c964e",
   "metadata": {},
   "outputs": [
    {
     "data": {
      "text/plain": [
       "0.19316412956959936"
      ]
     },
     "execution_count": 9,
     "metadata": {},
     "output_type": "execute_result"
    }
   ],
   "source": [
    "std_d_data"
   ]
  },
  {
   "cell_type": "code",
   "execution_count": 12,
   "id": "a3b69b97-cb6f-4939-ad40-2f3057897a85",
   "metadata": {},
   "outputs": [
    {
     "data": {
      "text/plain": [
       "15"
      ]
     },
     "execution_count": 12,
     "metadata": {},
     "output_type": "execute_result"
    }
   ],
   "source": [
    "len_of_sample = len(print_head_data)\n",
    "len_of_sample"
   ]
  },
  {
   "cell_type": "markdown",
   "id": "3b3838d9-8771-49c3-a64c-f7c4ddef6480",
   "metadata": {},
   "source": [
    "### a) Build 99% Confidence Interval Using Sample Standard Deviation"
   ]
  },
  {
   "cell_type": "code",
   "execution_count": 15,
   "id": "aca9e6ee-6c15-4f96-9664-47d64e7ea3aa",
   "metadata": {},
   "outputs": [],
   "source": [
    "std_error= std_d_data/np.sqrt(len_of_sample)\n",
    "t_score = stats.t.ppf(0.995,df =len_of_sample-1)"
   ]
  },
  {
   "cell_type": "code",
   "execution_count": 38,
   "id": "cca7013a-2869-47d8-b140-81aeb243b7dd",
   "metadata": {},
   "outputs": [],
   "source": [
    "cf_a = (mean_data-t_score*std_error,mean_data+t_score*std_error)"
   ]
  },
  {
   "cell_type": "code",
   "execution_count": 39,
   "id": "26174fea-8816-46c1-a5f5-0c00cc0927ed",
   "metadata": {},
   "outputs": [
    {
     "name": "stdout",
     "output_type": "stream",
     "text": [
      "Confidence Interval Using Sample Standard Deviation of 99% is  (1.0901973384384906, 1.3871359948948425)\n"
     ]
    }
   ],
   "source": [
    "print(\"Confidence Interval Using Sample Standard Deviation of 99% is \",cf_a)"
   ]
  },
  {
   "cell_type": "markdown",
   "id": "c3035ecd-082c-44fe-a568-f9f570a1dc58",
   "metadata": {},
   "source": [
    "#### explaination and rationale"
   ]
  },
  {
   "cell_type": "markdown",
   "id": "f80ccfa7-77bb-436e-8b77-822fd52757a9",
   "metadata": {},
   "source": [
    "##### We use the t-distribution instead of the normal distribution when our sample size is small (less than 30) and we don't know the population's standard deviation. The t-distribution helps account for the extra uncertainty that arises from estimating the population standard deviation using the sample data.\n",
    "\n",
    "##### To calculate a confidence interval, we use the following formula:\n",
    "\n",
    "Confidence Interval = Sample Mean ± (t-score * Standard Error)\n",
    "This interval gives us a range where we are 99% confident that the true population mean lies within."
   ]
  },
  {
   "cell_type": "markdown",
   "id": "cb18745c-6fe7-4587-98ca-18a2725ec177",
   "metadata": {},
   "source": [
    "### b) Build 99% Confidence Interval Using Known Population Standard Deviation"
   ]
  },
  {
   "cell_type": "code",
   "execution_count": 26,
   "id": "2fc114bf-e7f3-4ff9-8b97-9a94c830847b",
   "metadata": {},
   "outputs": [],
   "source": [
    "# known data \n",
    "pop_std_d = 0.2\n",
    "confidence_int = 0.99\n",
    "dof = len_of_sample-1"
   ]
  },
  {
   "cell_type": "code",
   "execution_count": 36,
   "id": "ae4bfe28-20c7-45d3-a72d-30eb0ac9b513",
   "metadata": {},
   "outputs": [],
   "source": [
    "standard_error = pop_std_d/np.sqrt(len_of_sample)\n",
    "cf_b =stats.t.interval(confidence_int,dof,mean_data,standard_error)"
   ]
  },
  {
   "cell_type": "code",
   "execution_count": 37,
   "id": "a735a4b4-94ef-49b8-a209-587cb478b333",
   "metadata": {},
   "outputs": [
    {
     "name": "stdout",
     "output_type": "stream",
     "text": [
      "Confidence Interval Using Known Population Standard Deviation of 99% is (1.0849431688733762, 1.392390164459957)\n"
     ]
    }
   ],
   "source": [
    "print(\"Confidence Interval Using Known Population Standard Deviation of 99% is\" ,cf_b)"
   ]
  },
  {
   "cell_type": "markdown",
   "id": "958071c3-4bdd-4d6f-a6df-5a7ea13ef485",
   "metadata": {},
   "source": [
    "#### Explanation and rationale`"
   ]
  },
  {
   "cell_type": "markdown",
   "id": "29176d58-7368-44b5-9aad-538b58b71d8d",
   "metadata": {},
   "source": [
    "##### When the population standard deviation is known and the sample size is small, the t-distribution is employed to account for additional uncertainty. The stats.t.interval function determines the critical t-value based on the specified confidence level and degrees of freedom.\n",
    "##### The confidence interval is then constructed by adding and subtracting the product of the critical t-value and the standard error from the sample mean. This interval provides a range of values within which we are 99% confident that the true population mean lies."
   ]
  },
  {
   "cell_type": "code",
   "execution_count": null,
   "id": "653e5b87-0cdd-4791-a56d-4537f7588e80",
   "metadata": {},
   "outputs": [],
   "source": []
  }
 ],
 "metadata": {
  "kernelspec": {
   "display_name": "Python 3 (ipykernel)",
   "language": "python",
   "name": "python3"
  },
  "language_info": {
   "codemirror_mode": {
    "name": "ipython",
    "version": 3
   },
   "file_extension": ".py",
   "mimetype": "text/x-python",
   "name": "python",
   "nbconvert_exporter": "python",
   "pygments_lexer": "ipython3",
   "version": "3.12.7"
  },
  "widgets": {
   "application/vnd.jupyter.widget-state+json": {
    "state": {},
    "version_major": 2,
    "version_minor": 0
   }
  }
 },
 "nbformat": 4,
 "nbformat_minor": 5
}
