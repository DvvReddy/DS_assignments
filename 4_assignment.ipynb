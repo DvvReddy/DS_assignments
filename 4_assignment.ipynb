{
 "cells": [
  {
   "cell_type": "markdown",
   "id": "91ae5f68-80ee-48db-9d7d-eafbe2f00824",
   "metadata": {},
   "source": [
    "# hypothesis Testing -(Assignment-4)"
   ]
  },
  {
   "cell_type": "markdown",
   "id": "82fe261e-035c-4024-b1f9-1e6eebb0534b",
   "metadata": {},
   "source": [
    "### chi-square"
   ]
  },
  {
   "cell_type": "markdown",
   "id": "d64e3d9f-e736-4935-b846-3d89536669ba",
   "metadata": {},
   "source": [
    "### Stating the Hypothesis"
   ]
  },
  {
   "cell_type": "markdown",
   "id": "518b465d-2250-4622-995e-a76e66f95634",
   "metadata": {},
   "source": [
    "Null Hypothesis (H₀): No significant difference or effect.\n",
    "\n",
    "Alternative Hypothesis (H₁): Significant difference or effect.\n",
    "\n",
    "Chi-Square Test (Χ²): Statistical test to compare observed and expected frequencies.\n",
    "\n",
    "Expected Frequency: Frequency expected in each category if there's no relationship."
   ]
  },
  {
   "cell_type": "markdown",
   "id": "dc193f27-e142-4ff3-97b8-dc68209d28b5",
   "metadata": {},
   "source": [
    "### Computing the Chi-sqare statistics"
   ]
  },
  {
   "cell_type": "markdown",
   "id": "4a97cd22-f985-4402-ba14-71fd9ceee9d0",
   "metadata": {},
   "source": [
    "#### Data:\n",
    "A survey was conducted on satisfaction levels for smart thermostats and smart lights.\n",
    "Respondents were categorized into five levels of satisfaction: Very Satisfied, Satisfied, Neutral, Unsatisfied, and Very Unsatisfied.\n",
    "\n",
    "#### Analysis:\n",
    "A Chi-Square test was performed to determine if there's a significant association between satisfaction levels and the two products.\n",
    "The test statistic, Χ², was calculated to be 1814.943.\n",
    "\n",
    "#### Interpretation:\n",
    "This high Chi-Square value suggests a strong association between satisfaction levels and the two products.\n",
    "In other words, satisfaction levels for smart thermostats and smart lights are not independent of each other."
   ]
  },
  {
   "cell_type": "markdown",
   "id": "46c76523-fe11-448c-a488-f63bf685836f",
   "metadata": {},
   "source": [
    "### Detrmining the critical value"
   ]
  },
  {
   "cell_type": "code",
   "execution_count": 7,
   "id": "5fb2109f-2720-401b-8e58-fa9887092033",
   "metadata": {},
   "outputs": [
    {
     "name": "stdout",
     "output_type": "stream",
     "text": [
      "Critical Value is 9.487729036781154\n"
     ]
    }
   ],
   "source": [
    "# we know that  alpha is 0.05,Degree of freedom is 4\n",
    "import scipy.stats as stats\n",
    "\n",
    "# For a chi-square distribution\n",
    "alpha = 0.05\n",
    "df = 4\n",
    "critical_value = stats.chi2.ppf(1 - alpha, df)\n",
    "print(f\"Critical Value is {critical_value}\")"
   ]
  },
  {
   "cell_type": "markdown",
   "id": "bb6fdc48-bff7-4eec-9986-dc370a1b430f",
   "metadata": {},
   "source": [
    "### making the decision "
   ]
  },
  {
   "cell_type": "markdown",
   "id": "9c57dc96-e2e4-4bd0-875e-81a5c92c3c6c",
   "metadata": {},
   "source": [
    "test statistics > critical value\n",
    "\n",
    "The statistical analysis indicates a significant relationship between customer satisfaction and the type of smart home device purchased (smart thermostats vs. smart lights). This suggests that satisfaction with one type of device is likely to influence satisfaction with the other."
   ]
  },
  {
   "cell_type": "markdown",
   "id": "b370095c-a0e7-4a15-85f3-a842786fc9eb",
   "metadata": {},
   "source": [
    "### hypothesis Testing "
   ]
  },
  {
   "cell_type": "markdown",
   "id": "4dbd038e-a8b9-4f48-8391-ea93d082147e",
   "metadata": {},
   "source": [
    "Null Hypothesis (H₀): The average weekly operating cost is Rs. 4,000.\n",
    "\n",
    "Alternative Hypothesis (H₁): The average weekly operating cost is greater than Rs. 4,000."
   ]
  },
  {
   "cell_type": "markdown",
   "id": "e9b4e4aa-6246-49ff-88c1-a8f302cd3007",
   "metadata": {},
   "source": [
    " ### test statistics"
   ]
  },
  {
   "cell_type": "markdown",
   "id": "9c9de231-0120-403a-8c26-1f9af884b6c8",
   "metadata": {},
   "source": [
    "To determine if the average weekly operating cost is significantly different from the theoretical value of Rs. 4,000, a t-test was conducted.\n",
    "\n",
    "The calculated t-score is -38, indicating a significant difference between the sample mean (Rs. 3,050) and the theoretical mean. This suggests that the actual average weekly cost is lower than the expected value."
   ]
  },
  {
   "cell_type": "markdown",
   "id": "ee8c021d-5b1d-48c2-8adf-8347c2031e65",
   "metadata": {},
   "source": [
    "### Critical value"
   ]
  },
  {
   "cell_type": "code",
   "execution_count": 10,
   "id": "b29d93e1-dd69-40b4-8c80-30936338a432",
   "metadata": {},
   "outputs": [
    {
     "name": "stdout",
     "output_type": "stream",
     "text": [
      "Critical Value of one-tail is 1.6448536269514722\n",
      "Critical Value of two-tail is ±1.959963984540054\n"
     ]
    }
   ],
   "source": [
    "import scipy.stats as stats\n",
    "\n",
    "# For one-tail test\n",
    "alpha = 0.05\n",
    "critical_value = stats.norm.ppf(1 - alpha)\n",
    "print(f\"Critical Value of one-tail is {critical_value}\")\n",
    "\n",
    "# For two-tail test\n",
    "critical_value_two_tail = stats.norm.ppf(1 - alpha / 2)\n",
    "print(f\"Critical Value of two-tail is ±{critical_value_two_tail}\")"
   ]
  },
  {
   "cell_type": "markdown",
   "id": "3759dc6b-2bdd-46da-9c2e-690cdbd5e57f",
   "metadata": {},
   "source": [
    "### Descision making\n"
   ]
  },
  {
   "cell_type": "markdown",
   "id": "c3373339-9f63-4de4-80b1-5aa4dbd61513",
   "metadata": {},
   "source": [
    "#### Interpretation of the Statistical Test:\n",
    "\n",
    "A statistical test was conducted to determine if the average weekly operating cost for restaurants deviates from the theoretical value of Rs. 4,000. The results of the test indicate a significant difference between the observed average cost and the expected cost. Specifically, the actual average cost is substantially lower than the theoretical prediction. This suggests that the underlying assumptions used to calculate the theoretical cost may not be accurate or that there are factors influencing the actual costs that were not accounted for in the theoretical model."
   ]
  },
  {
   "cell_type": "markdown",
   "id": "c7f10be4-0943-4a5d-88fa-316f9702768b",
   "metadata": {},
   "source": [
    "### conclusion "
   ]
  },
  {
   "cell_type": "markdown",
   "id": "84fcfe8a-780f-4561-a4b9-290b0c78e27e",
   "metadata": {},
   "source": [
    "The data analysis indicates that the restaurant owners' claim of increasing weekly operating costs is not supported by the evidence. In fact, the actual costs appear to be lower than what the theoretical model predicts. This discrepancy suggests that the factors influencing the actual costs might be different from those considered in the theoretical model."
   ]
  },
  {
   "cell_type": "code",
   "execution_count": null,
   "id": "d78cfdf0-dab2-4029-b399-6cf28de9991e",
   "metadata": {},
   "outputs": [],
   "source": []
  }
 ],
 "metadata": {
  "kernelspec": {
   "display_name": "Python 3 (ipykernel)",
   "language": "python",
   "name": "python3"
  },
  "language_info": {
   "codemirror_mode": {
    "name": "ipython",
    "version": 3
   },
   "file_extension": ".py",
   "mimetype": "text/x-python",
   "name": "python",
   "nbconvert_exporter": "python",
   "pygments_lexer": "ipython3",
   "version": "3.12.7"
  },
  "widgets": {
   "application/vnd.jupyter.widget-state+json": {
    "state": {},
    "version_major": 2,
    "version_minor": 0
   }
  }
 },
 "nbformat": 4,
 "nbformat_minor": 5
}
